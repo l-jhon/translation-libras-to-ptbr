{
 "cells": [
  {
   "cell_type": "markdown",
   "metadata": {},
   "source": [
    "## Web Scraping to get sentences in Brazilian Sign Language and their translations into Portuguese.\n",
    "\n",
    "Website: <https://www.ines.gov.br/dicionario-de-libras/>"
   ]
  },
  {
   "cell_type": "markdown",
   "metadata": {},
   "source": [
    "### Import Lib's"
   ]
  },
  {
   "cell_type": "code",
   "execution_count": 1,
   "metadata": {},
   "outputs": [],
   "source": [
    "import requests\n",
    "from selenium import webdriver\n",
    "from selenium.webdriver.chrome.options import Options\n",
    "from selenium.webdriver.support.ui import WebDriverWait\n",
    "from webdriver_manager.chrome import ChromeDriverManager\n",
    "from selenium.webdriver.common.action_chains import ActionChains\n",
    "from selenium.webdriver.common.keys import Keys\n",
    "from selenium.webdriver.common.by import By\n",
    "from selenium.common.exceptions import NoSuchElementException\n",
    "import pandas as pd\n",
    "import io\n",
    "import os\n",
    "import sys\n",
    "import csv\n",
    "import time\n",
    "import random\n",
    "import string\n",
    "import logging as logger\n",
    "\n",
    "os.environ[\"PATH\"] = \"$PATH:/usr/bin/\"\n",
    "\n",
    "logger.basicConfig(\n",
    "    format=\"%(asctime)s - %(levelname)s - %(message)s\",\n",
    "    level=logger.INFO,\n",
    "    stream=sys.stdout\n",
    ")"
   ]
  },
  {
   "cell_type": "markdown",
   "metadata": {},
   "source": [
    "### Function to get the chrome driver"
   ]
  },
  {
   "cell_type": "code",
   "execution_count": 2,
   "metadata": {},
   "outputs": [],
   "source": [
    "def get_chrome_driver():\n",
    "    \"\"\"\n",
    "    Initialize a chrome driver with custom download dir\n",
    "    \"\"\"\n",
    "\n",
    "    chrome_options = webdriver.ChromeOptions()\n",
    "\n",
    "    prefs = {\"download.default_directory\": os.path.abspath('/usr/bin/'), \"disable-blink-features\": \"AutomationControlled\", \"incognito\": True}\n",
    "    chrome_options.add_experimental_option(\"prefs\", prefs)\n",
    "\n",
    "    return webdriver.Chrome(executable_path=ChromeDriverManager().install(), chrome_options=chrome_options)"
   ]
  },
  {
   "cell_type": "markdown",
   "metadata": {},
   "source": [
    "### Get the chrome driver"
   ]
  },
  {
   "cell_type": "code",
   "execution_count": null,
   "metadata": {},
   "outputs": [],
   "source": [
    "# Access the page\n",
    "driver = get_chrome_driver()\n",
    "wait = WebDriverWait(driver, 10)\n",
    "driver.get(\"https://www.ines.gov.br/dicionario-de-libras/\")\n",
    "time.sleep(2)"
   ]
  },
  {
   "cell_type": "markdown",
   "metadata": {},
   "source": [
    "### Alphabet List\n",
    "We will use this list to get the data from the website, for each letter we will get a set of data."
   ]
  },
  {
   "cell_type": "code",
   "execution_count": 97,
   "metadata": {},
   "outputs": [],
   "source": [
    "alphabet_list = list(string.ascii_uppercase)"
   ]
  },
  {
   "cell_type": "markdown",
   "metadata": {},
   "source": [
    "### Running the process to access the website and extract each feature"
   ]
  },
  {
   "cell_type": "code",
   "execution_count": null,
   "metadata": {},
   "outputs": [],
   "source": [
    "libras_dictionary_dataframe = pd.DataFrame()\n",
    "\n",
    "for letter in alphabet_list:\n",
    "\n",
    "    driver = get_chrome_driver()\n",
    "    wait = WebDriverWait(driver, 10)\n",
    "    driver.get(\"https://www.ines.gov.br/dicionario-de-libras/\")\n",
    "    time.sleep(2)\n",
    "\n",
    "    logger.info(f\"Processing letter - {letter}\")\n",
    "    \n",
    "    driver.find_element(By.XPATH, f'//*[@id=\"letter-{letter}\"]').click()\n",
    "\n",
    "    words_list_selector_element = driver.find_element(By.XPATH, '//*[@id=\"input-palavras\"]')\n",
    "    word_list_options_element = words_list_selector_element.find_elements(By.TAG_NAME, \"option\")\n",
    "    word_list_options_element = [x for x in word_list_options_element]\n",
    "    word_list_options_element_id = [x.get_attribute(\"id\") for x in word_list_options_element]\n",
    "    word_list = {x.text: id for x, id in zip(word_list_options_element, range(1, len(word_list_options_element_id) + 1)) if x.text != \"-- SELECIONE --\"}\n",
    "\n",
    "    for word, word_id in word_list.items(): # dict(list(word_list.items())[:5]).items():\n",
    "\n",
    "        logger.info(f\"Word: {word}- Word ID: {word_id}\")\n",
    "\n",
    "        # Select the word\n",
    "        driver.find_element(By.XPATH, f'/html/body/div/div[2]/div/div/div[3]/div[2]/div[2]/select/option[{word_id}]').click()\n",
    "\n",
    "        # Get the subject\n",
    "        subject_selector_element = driver.find_element(By.XPATH, '//*[@id=\"input-assunto\"]')\n",
    "        subject_option_element = subject_selector_element.find_element(By.XPATH, f'/html/body/div/div[2]/div/div/div[3]/div[2]/div[1]/select/option').text\n",
    "\n",
    "        # Get the interpretation of the word\n",
    "        interpretation_div_element = driver.find_element(By.XPATH, '//*[@id=\"input-acepcao\"]').text\n",
    "        \n",
    "        # Get sentence in portuguese\n",
    "        example_portuguese_sentence_div_element = driver.find_element(By.XPATH, '//*[@id=\"input-exemplo\"]').text\n",
    "\n",
    "        # Get sentence in Libras\n",
    "        example_libras_sentence_div_element = driver.find_element(By.XPATH, '//*[@id=\"input-libras\"]').text\n",
    "\n",
    "        # Get grammar class\n",
    "        grammar_class_div_element = driver.find_element(By.XPATH, '//*[@id=\"input-classe\"]').text\n",
    "\n",
    "        # Get word origin\n",
    "        word_origin_div_element = driver.find_element(By.XPATH, '//*[@id=\"input-origem\"]').text\n",
    "\n",
    "        # Get video link\n",
    "        try:\n",
    "            video_link_div_element = driver.find_element(By.XPATH, '//*[@id=\"input-video\"]')\n",
    "            video_link_div_element = video_link_div_element.find_element(By.XPATH, '//*[@id=\"input-video\"]/video/source').get_attribute(\"src\")\n",
    "        except NoSuchElementException as e:\n",
    "            video_link_div_element = \"UNAVAILABLE\"\n",
    "\n",
    "        # Get image link\n",
    "        try:\n",
    "            image_link_div_element = driver.find_element(By.XPATH, '//*[@id=\"input-image\"]')\n",
    "            image_link_div_element = image_link_div_element.find_element(By.XPATH, '//*[@id=\"input-image\"]/img').get_attribute(\"src\")\n",
    "        except NoSuchElementException as e:\n",
    "            image_link_div_element = \"UNAVAILABLE\"\n",
    "\n",
    "        # Get hand image link\n",
    "        try:\n",
    "            hand_image_link_div_element = driver.find_element(By.XPATH, '//*[@id=\"input-mao\"]')\n",
    "            hand_image_link_div_element = hand_image_link_div_element.find_element(By.XPATH, '//*[@id=\"input-mao\"]/img').get_attribute(\"src\")\n",
    "        except NoSuchElementException as e:\n",
    "            hand_image_link_div_element = \"UNAVAILABLE\"\n",
    "\n",
    "        libras_dict = {\"word\": word,\n",
    "            \"subject\": subject_option_element,\n",
    "            \"interpretation\": interpretation_div_element,\n",
    "            \"example_portuguese_sentence\": example_portuguese_sentence_div_element,\n",
    "            \"example_libras_sentence\": example_libras_sentence_div_element, \n",
    "            \"grammar_class\": grammar_class_div_element, \n",
    "            \"word_origin\": word_origin_div_element, \n",
    "            \"video_link\": video_link_div_element, \n",
    "            \"image_link\": image_link_div_element, \n",
    "            \"hand_image_link\": hand_image_link_div_element\n",
    "        }\n",
    "\n",
    "        libras_dictionary_dataframe = pd.concat([libras_dictionary_dataframe, pd.DataFrame(libras_dict, index=[0])], ignore_index=True, axis=0)\n",
    "\n",
    "    logger.info(f\"Finished processing letter - {letter}\")\n",
    "    driver.close()\n"
   ]
  },
  {
   "cell_type": "code",
   "execution_count": 100,
   "metadata": {},
   "outputs": [
    {
     "data": {
      "text/html": [
       "<div>\n",
       "<style scoped>\n",
       "    .dataframe tbody tr th:only-of-type {\n",
       "        vertical-align: middle;\n",
       "    }\n",
       "\n",
       "    .dataframe tbody tr th {\n",
       "        vertical-align: top;\n",
       "    }\n",
       "\n",
       "    .dataframe thead th {\n",
       "        text-align: right;\n",
       "    }\n",
       "</style>\n",
       "<table border=\"1\" class=\"dataframe\">\n",
       "  <thead>\n",
       "    <tr style=\"text-align: right;\">\n",
       "      <th></th>\n",
       "      <th>word</th>\n",
       "      <th>subject</th>\n",
       "      <th>interpretation</th>\n",
       "      <th>example_portuguese_sentence</th>\n",
       "      <th>example_libras_sentence</th>\n",
       "      <th>grammar_class</th>\n",
       "      <th>word_origin</th>\n",
       "      <th>video_link</th>\n",
       "      <th>image_link</th>\n",
       "      <th>hand_image_link</th>\n",
       "    </tr>\n",
       "  </thead>\n",
       "  <tbody>\n",
       "    <tr>\n",
       "      <th>0</th>\n",
       "      <td>A</td>\n",
       "      <td>NENHUM</td>\n",
       "      <td>Primeira letra do alfabeto da língua portugues...</td>\n",
       "      <td>Invente qualquer palavra que comece com a letr...</td>\n",
       "      <td>VOCÊ INVENTAR QUALQUER PALAVRA COMEÇAR A.</td>\n",
       "      <td>SUBSTANTIVO</td>\n",
       "      <td>Nacional</td>\n",
       "      <td>https://www.ines.gov.br/dicionario-de-libras/p...</td>\n",
       "      <td>https://www.ines.gov.br/dicionario-de-libras/p...</td>\n",
       "      <td>https://www.ines.gov.br/dicionario-de-libras/p...</td>\n",
       "    </tr>\n",
       "    <tr>\n",
       "      <th>1</th>\n",
       "      <td>ABACATE</td>\n",
       "      <td>FRUTA</td>\n",
       "      <td>O fruto do abacateiro. Comestível, tem a polpa...</td>\n",
       "      <td>Você gosta de abacate com leite?</td>\n",
       "      <td>VOCÊ GOSTAR ABACATE LEITE JUNTO?</td>\n",
       "      <td>SUBSTANTIVO</td>\n",
       "      <td>Nacional</td>\n",
       "      <td>https://www.ines.gov.br/dicionario-de-libras/p...</td>\n",
       "      <td>https://www.ines.gov.br/dicionario-de-libras/p...</td>\n",
       "      <td>https://www.ines.gov.br/dicionario-de-libras/p...</td>\n",
       "    </tr>\n",
       "    <tr>\n",
       "      <th>2</th>\n",
       "      <td>ABACAXI</td>\n",
       "      <td>FRUTA</td>\n",
       "      <td>Fruta de casca grossa e áspera. Sua polpa pode...</td>\n",
       "      <td>Hoje tomei suco de abacaxi, ele estava ácido.</td>\n",
       "      <td>HOJE S-U-C-O ABACAXI BEBER ÁCID@.</td>\n",
       "      <td>SUBSTANTIVO</td>\n",
       "      <td>Nacional</td>\n",
       "      <td>https://www.ines.gov.br/dicionario-de-libras/p...</td>\n",
       "      <td>https://www.ines.gov.br/dicionario-de-libras/p...</td>\n",
       "      <td>https://www.ines.gov.br/dicionario-de-libras/p...</td>\n",
       "    </tr>\n",
       "    <tr>\n",
       "      <th>3</th>\n",
       "      <td>ABAFAR</td>\n",
       "      <td>NENHUM</td>\n",
       "      <td>Cobrir ou fechar, para manter o calor.</td>\n",
       "      <td>Se você quer abafar seu quarto, é melhor fecha...</td>\n",
       "      <td>S-I VOCÊ QUERER QUARTO SE@ ABAFAR A-R? MELHOR ...</td>\n",
       "      <td>VERBO</td>\n",
       "      <td>Nacional</td>\n",
       "      <td>https://www.ines.gov.br/dicionario-de-libras/p...</td>\n",
       "      <td>https://www.ines.gov.br/dicionario-de-libras/p...</td>\n",
       "      <td>https://www.ines.gov.br/dicionario-de-libras/p...</td>\n",
       "    </tr>\n",
       "    <tr>\n",
       "      <th>4</th>\n",
       "      <td>ABAIXO</td>\n",
       "      <td>NENHUM</td>\n",
       "      <td>Lugar, posição ou situação inferior, em relaçã...</td>\n",
       "      <td>Não é no primeiro apartamento abaixo, é no seg...</td>\n",
       "      <td>APARTAMENTO PRIMEIR@ NÃO SEGUND@ ABAIXO.</td>\n",
       "      <td>ADV.</td>\n",
       "      <td>Nacional</td>\n",
       "      <td>https://www.ines.gov.br/dicionario-de-libras/p...</td>\n",
       "      <td>https://www.ines.gov.br/dicionario-de-libras/p...</td>\n",
       "      <td>https://www.ines.gov.br/dicionario-de-libras/p...</td>\n",
       "    </tr>\n",
       "  </tbody>\n",
       "</table>\n",
       "</div>"
      ],
      "text/plain": [
       "      word subject                                     interpretation  \\\n",
       "0        A  NENHUM  Primeira letra do alfabeto da língua portugues...   \n",
       "1  ABACATE   FRUTA  O fruto do abacateiro. Comestível, tem a polpa...   \n",
       "2  ABACAXI   FRUTA  Fruta de casca grossa e áspera. Sua polpa pode...   \n",
       "3   ABAFAR  NENHUM             Cobrir ou fechar, para manter o calor.   \n",
       "4   ABAIXO  NENHUM  Lugar, posição ou situação inferior, em relaçã...   \n",
       "\n",
       "                         example_portuguese_sentence  \\\n",
       "0  Invente qualquer palavra que comece com a letr...   \n",
       "1                   Você gosta de abacate com leite?   \n",
       "2      Hoje tomei suco de abacaxi, ele estava ácido.   \n",
       "3  Se você quer abafar seu quarto, é melhor fecha...   \n",
       "4  Não é no primeiro apartamento abaixo, é no seg...   \n",
       "\n",
       "                             example_libras_sentence grammar_class  \\\n",
       "0          VOCÊ INVENTAR QUALQUER PALAVRA COMEÇAR A.   SUBSTANTIVO   \n",
       "1                   VOCÊ GOSTAR ABACATE LEITE JUNTO?   SUBSTANTIVO   \n",
       "2                  HOJE S-U-C-O ABACAXI BEBER ÁCID@.   SUBSTANTIVO   \n",
       "3  S-I VOCÊ QUERER QUARTO SE@ ABAFAR A-R? MELHOR ...         VERBO   \n",
       "4           APARTAMENTO PRIMEIR@ NÃO SEGUND@ ABAIXO.          ADV.   \n",
       "\n",
       "  word_origin                                         video_link  \\\n",
       "0    Nacional  https://www.ines.gov.br/dicionario-de-libras/p...   \n",
       "1    Nacional  https://www.ines.gov.br/dicionario-de-libras/p...   \n",
       "2    Nacional  https://www.ines.gov.br/dicionario-de-libras/p...   \n",
       "3    Nacional  https://www.ines.gov.br/dicionario-de-libras/p...   \n",
       "4    Nacional  https://www.ines.gov.br/dicionario-de-libras/p...   \n",
       "\n",
       "                                          image_link  \\\n",
       "0  https://www.ines.gov.br/dicionario-de-libras/p...   \n",
       "1  https://www.ines.gov.br/dicionario-de-libras/p...   \n",
       "2  https://www.ines.gov.br/dicionario-de-libras/p...   \n",
       "3  https://www.ines.gov.br/dicionario-de-libras/p...   \n",
       "4  https://www.ines.gov.br/dicionario-de-libras/p...   \n",
       "\n",
       "                                     hand_image_link  \n",
       "0  https://www.ines.gov.br/dicionario-de-libras/p...  \n",
       "1  https://www.ines.gov.br/dicionario-de-libras/p...  \n",
       "2  https://www.ines.gov.br/dicionario-de-libras/p...  \n",
       "3  https://www.ines.gov.br/dicionario-de-libras/p...  \n",
       "4  https://www.ines.gov.br/dicionario-de-libras/p...  "
      ]
     },
     "execution_count": 100,
     "metadata": {},
     "output_type": "execute_result"
    }
   ],
   "source": [
    "libras_dictionary_dataframe.head()"
   ]
  },
  {
   "cell_type": "markdown",
   "metadata": {},
   "source": [
    "### Check details about the data"
   ]
  },
  {
   "cell_type": "code",
   "execution_count": 144,
   "metadata": {},
   "outputs": [
    {
     "name": "stdout",
     "output_type": "stream",
     "text": [
      "<class 'pandas.core.frame.DataFrame'>\n",
      "RangeIndex: 5776 entries, 0 to 5775\n",
      "Data columns (total 10 columns):\n",
      " #   Column                       Non-Null Count  Dtype \n",
      "---  ------                       --------------  ----- \n",
      " 0   word                         5776 non-null   object\n",
      " 1   subject                      5776 non-null   object\n",
      " 2   interpretation               5776 non-null   object\n",
      " 3   example_portuguese_sentence  5776 non-null   object\n",
      " 4   example_libras_sentence      5776 non-null   object\n",
      " 5   grammar_class                5776 non-null   object\n",
      " 6   word_origin                  5776 non-null   object\n",
      " 7   video_link                   5776 non-null   object\n",
      " 8   image_link                   5776 non-null   object\n",
      " 9   hand_image_link              5776 non-null   object\n",
      "dtypes: object(10)\n",
      "memory usage: 451.4+ KB\n"
     ]
    }
   ],
   "source": [
    "libras_dictionary_dataframe.info()"
   ]
  },
  {
   "cell_type": "markdown",
   "metadata": {},
   "source": [
    "### Save the data as file"
   ]
  },
  {
   "cell_type": "code",
   "execution_count": null,
   "metadata": {},
   "outputs": [],
   "source": [
    "libras_dictionary_dataframe.to_csv(\"../data/libras_dictionary.csv\", index=False)"
   ]
  }
 ],
 "metadata": {
  "kernelspec": {
   "display_name": "Python 3.10.6 ('.venv': poetry)",
   "language": "python",
   "name": "python3"
  },
  "language_info": {
   "codemirror_mode": {
    "name": "ipython",
    "version": 3
   },
   "file_extension": ".py",
   "mimetype": "text/x-python",
   "name": "python",
   "nbconvert_exporter": "python",
   "pygments_lexer": "ipython3",
   "version": "3.10.6"
  },
  "orig_nbformat": 4,
  "vscode": {
   "interpreter": {
    "hash": "1448d780881a940d49ab191b2d1b463a8c02ae47a3b8017bde1517a5fe99f211"
   }
  }
 },
 "nbformat": 4,
 "nbformat_minor": 2
}
